{
 "cells": [
  {
   "cell_type": "code",
   "execution_count": 71,
   "metadata": {},
   "outputs": [],
   "source": [
    "#Raul Castellanos \n",
    "#20180052"
   ]
  },
  {
   "cell_type": "code",
   "execution_count": 72,
   "metadata": {},
   "outputs": [],
   "source": [
    "#Expresiones regulares\n",
    "import re\n",
    "#otras libs \n",
    "import numpy as np \n",
    "import pandas as pd"
   ]
  },
  {
   "cell_type": "code",
   "execution_count": 73,
   "metadata": {},
   "outputs": [],
   "source": [
    "#Pregunta 1: Genere una expresión regular que sea capaz de detectar las placas \n",
    "#de un vehículo particular guatemalteco."
   ]
  },
  {
   "cell_type": "code",
   "execution_count": 74,
   "metadata": {},
   "outputs": [
    {
     "name": "stdout",
     "output_type": "stream",
     "text": [
      "['P777BMW', 'P778AUD', 'M111DUC', 'M112KAW', 'C999MEC', 'C998AKA', 'C997ALP']\n"
     ]
    }
   ],
   "source": [
    "placas_guate = ['P777BMW',\n",
    "               'P778AUD',\n",
    "               'M111DUC',\n",
    "               'M112KAW',\n",
    "               'C999MEC',\n",
    "               'C998AKA',\n",
    "               'C997ALP']\n",
    "print(placas_guate)"
   ]
  },
  {
   "cell_type": "code",
   "execution_count": 75,
   "metadata": {},
   "outputs": [
    {
     "name": "stdout",
     "output_type": "stream",
     "text": [
      "Placas particulares (P): ['P777BMW', 'P778AUD']\n"
     ]
    }
   ],
   "source": [
    "x = re.compile('([P]+[\\d{3}]+[A-Z{3}])')\n",
    "print(\"Placas particulares (P):\",list(filter(x.match,placas_guate)))"
   ]
  },
  {
   "cell_type": "code",
   "execution_count": 76,
   "metadata": {},
   "outputs": [],
   "source": [
    "#Pregunta 2: Genere una expresión regular que valide si un archivo es de tipo .pdf o jpg"
   ]
  },
  {
   "cell_type": "code",
   "execution_count": 77,
   "metadata": {},
   "outputs": [
    {
     "name": "stdout",
     "output_type": "stream",
     "text": [
      "['Ejemplo1.pdf', 'prueba2.PDF', 'respuestas_del_examen.jpg', 'amor.JPG']\n"
     ]
    }
   ],
   "source": [
    "archivos = ['Ejemplo1.pdf','prueba2.PDF','respuestas_del_examen.jpg','amor.JPG']\n",
    "print(archivos)"
   ]
  },
  {
   "cell_type": "code",
   "execution_count": 78,
   "metadata": {},
   "outputs": [
    {
     "name": "stdout",
     "output_type": "stream",
     "text": [
      "Archivos pdf o jpg: ['Ejemplo1.pdf', 'prueba2.PDF', 'respuestas_del_examen.jpg', 'amor.JPG']\n"
     ]
    }
   ],
   "source": [
    "y = re.compile('[A-Za-z]+[\\d|\\.|_|]+\\w+.+[PDF|JPG|pdf|jpg]')\n",
    "print(\"Archivos pdf o jpg:\",list(filter(y.match,archivos)))"
   ]
  },
  {
   "cell_type": "code",
   "execution_count": 79,
   "metadata": {},
   "outputs": [],
   "source": [
    "#Pregunta 3: Genere una expresión regular para validar contraseñas de correo. \n",
    "#Una contraseña de correo debe contener por lo menos:\n",
    "    #8 caracteres \n",
    "    #Una letra mayúscula y un carácter especial."
   ]
  },
  {
   "cell_type": "code",
   "execution_count": 80,
   "metadata": {},
   "outputs": [
    {
     "name": "stdout",
     "output_type": "stream",
     "text": [
      "['Cast222#', 'Raul123%', 'HA12#', 'Contrasenia']\n"
     ]
    }
   ],
   "source": [
    "contras = ['Cast222#',\n",
    "         'Raul123%',\n",
    "         'HA12#',\n",
    "         'Contrasenia']\n",
    "print(contras)"
   ]
  },
  {
   "cell_type": "code",
   "execution_count": 81,
   "metadata": {},
   "outputs": [
    {
     "name": "stdout",
     "output_type": "stream",
     "text": [
      "Contrasenias validas: ['Cast222#', 'Raul123%']\n"
     ]
    }
   ],
   "source": [
    "z = re.compile('(?=.*[A-Z])(?=.*[a-z])(?=.*\\d)(?=.*[#$%*])[A-Za-z\\d#$%*]{8,}$')\n",
    "print(\"Contrasenias validas:\",list(filter(z.match,contras)))"
   ]
  },
  {
   "cell_type": "code",
   "execution_count": 82,
   "metadata": {},
   "outputs": [],
   "source": [
    "#Pregunta 4: Cree una expresión regular para validar un numero de carnet de la Universidad Galileo\n",
    "#por ejemplo 19002324 donde los primeros dos dígitos representan el año en el que el alumno se inscribió los cuales pueden variar desde el 01 (año 2001) hasta el 30 (año 2030). Los siguientes dos dígitos son cero (00) los cuales\n",
    "#van por default y los últimos cuatro dígitos son un número que va desde el 1110 hasta el 8970. \n",
    "#Para dar su respuesta utilice la notación de expresiones regulares.\n"
   ]
  },
  {
   "cell_type": "code",
   "execution_count": 83,
   "metadata": {},
   "outputs": [
    {
     "name": "stdout",
     "output_type": "stream",
     "text": [
      "['12345678', '87654321', '10001110', '20002222', '30003333']\n"
     ]
    }
   ],
   "source": [
    "carnet = ['12345678',\n",
    "         '87654321',\n",
    "         '10001110',\n",
    "         '20002222',\n",
    "         '30003333']\n",
    "print(carnet)"
   ]
  },
  {
   "cell_type": "code",
   "execution_count": 84,
   "metadata": {},
   "outputs": [
    {
     "name": "stdout",
     "output_type": "stream",
     "text": [
      "Los carnet de la Universidad Galileo son: ['10001110', '20002222', '30003333']\n"
     ]
    }
   ],
   "source": [
    "validacion = re.compile('([1-9]|[1][0-9]|[2][0-9]|30)00(11[0-9][0-9]|1[2-9][0-9]{2}|[2-7][0-9]{3}|8[0-8][0-9]{2}|89[0-6][0-9]|8970)$')\n",
    "print(\"Los carnet de la Universidad Galileo son:\", list(filter(validacion.search,carnet)))"
   ]
  },
  {
   "cell_type": "code",
   "execution_count": 85,
   "metadata": {},
   "outputs": [],
   "source": [
    "#Pregunta 5: Cree una expresión regular que encuentre todas las palabras de la primera línea,\n",
    "#pero ninguna de la segunda.\n"
   ]
  },
  {
   "cell_type": "code",
   "execution_count": 86,
   "metadata": {},
   "outputs": [
    {
     "name": "stdout",
     "output_type": "stream",
     "text": [
      "['pit', 'spot', 'spate', 'slaptwo', 'respite', 'pt', 'Pot', 'peat', 'part']\n"
     ]
    }
   ],
   "source": [
    "palabras = ['pit','spot','spate','slaptwo','respite','pt','Pot','peat','part']\n",
    "print(palabras)"
   ]
  },
  {
   "cell_type": "code",
   "execution_count": 87,
   "metadata": {},
   "outputs": [
    {
     "name": "stdout",
     "output_type": "stream",
     "text": [
      "Las palabras de la linea 1 son: ['pit', 'spot', 'spate', 'respite']\n"
     ]
    }
   ],
   "source": [
    "linea1 = re.compile('p.t')\n",
    "print(\"Las palabras de la linea 1 son:\", list(filter(linea1.search,palabras)))"
   ]
  },
  {
   "cell_type": "code",
   "execution_count": 88,
   "metadata": {},
   "outputs": [],
   "source": [
    "#Pregunta 6: Cree una expresión regular para obtener los números telefónicos de Guatemala. \n",
    "#Estos pueden contener al inicio +502 o 502, pueden estar separados por un espacio en blanco o un guión o juntos. \n",
    "#Notar que los números telefónicos pueden empezar únicamente con 4,5,6 o 2."
   ]
  },
  {
   "cell_type": "code",
   "execution_count": 89,
   "metadata": {},
   "outputs": [
    {
     "name": "stdout",
     "output_type": "stream",
     "text": [
      "['+50254821151', '4210-7640', '52018150', '24346854', '11234569', '50211234578']\n"
     ]
    }
   ],
   "source": [
    "numeros = ['+50254821151','4210-7640','52018150','24346854','11234569', '50211234578']\n",
    "print(numeros)"
   ]
  },
  {
   "cell_type": "code",
   "execution_count": 90,
   "metadata": {},
   "outputs": [
    {
     "name": "stdout",
     "output_type": "stream",
     "text": [
      "Los numeros telefonicos de Guatemala son: ['+50254821151', '4210-7640', '52018150', '24346854', '50211234578']\n"
     ]
    }
   ],
   "source": [
    "numero_guate = re.compile('((\\+)?(502)?)([4562])(\\d{3})([\\s|-]?)(\\d{4})') \n",
    "print(\"Los numeros telefonicos de Guatemala son:\", list(filter(numero_guate.search,numeros)))"
   ]
  },
  {
   "cell_type": "code",
   "execution_count": 91,
   "metadata": {},
   "outputs": [],
   "source": [
    "#Pregunta 7: Genere una expresión regular que sea capaz de obtener correos de la UFM."
   ]
  },
  {
   "cell_type": "code",
   "execution_count": 92,
   "metadata": {},
   "outputs": [
    {
     "name": "stdout",
     "output_type": "stream",
     "text": [
      "['rmcastellanos@ufm.edu', 'crobertomorales@ufm.edu', 'hwalter@ufm.edu', 'cast@gmail.com', 'wenas@hotmail.com']\n"
     ]
    }
   ],
   "source": [
    "correos = ['rmcastellanos@ufm.edu', 'crobertomorales@ufm.edu', 'hwalter@ufm.edu',\n",
    "          'cast@gmail.com', 'wenas@hotmail.com']\n",
    "print(correos)"
   ]
  },
  {
   "cell_type": "code",
   "execution_count": 93,
   "metadata": {},
   "outputs": [
    {
     "name": "stdout",
     "output_type": "stream",
     "text": [
      "Los correos de la UFM son: ['rmcastellanos@ufm.edu', 'crobertomorales@ufm.edu', 'hwalter@ufm.edu']\n"
     ]
    }
   ],
   "source": [
    "correo_ufm = re.compile('[\\w|_]+[@]+[ufm]+.+[edu]')\n",
    "print(\"Los correos de la UFM son:\",list(filter(correo_ufm.search,correos)))"
   ]
  },
  {
   "cell_type": "code",
   "execution_count": 94,
   "metadata": {},
   "outputs": [],
   "source": [
    "#Pregunta 8: En el mundo distópico de Eurasia, Big Brother le asigna un identificador único a cada ciudadano. \n",
    "#Genere una expresión regular que valide las identificaciones. Composición del id:\n",
    "#a. El id inicia con 0 a 3 letras minúsculas (puede tener 0 letras minúsculas hasta tres letras minúsculas)\n",
    "#b. Luego es seguido por una cadena de dígitos que puede ser de 2 a 9 dígitos respectivamente.\n",
    "#c. Inmediatamente después de la cadena de dígitos, se encuentra por lo menos tres letras mayúsculas.\n",
    "#d. Ej:abc012333ABCDEEEE"
   ]
  },
  {
   "cell_type": "code",
   "execution_count": 95,
   "metadata": {},
   "outputs": [
    {
     "name": "stdout",
     "output_type": "stream",
     "text": [
      "['a1234ABCD', 'b4324GGEZ', 'haha1234HAHA', '9864LMAO']\n"
     ]
    }
   ],
   "source": [
    "identificacion = ['a1234ABCD','b4324GGEZ','haha1234HAHA','9864LMAO']\n",
    "print(identificacion)"
   ]
  },
  {
   "cell_type": "code",
   "execution_count": 96,
   "metadata": {},
   "outputs": [
    {
     "name": "stdout",
     "output_type": "stream",
     "text": [
      "Los ID de Eurasia son: ['b4324GGEZ', '9864LMAO']\n"
     ]
    }
   ],
   "source": [
    "Eurasia = re.compile('([a-z]{0,3})+([2-9]{1,})+([A-Z{3,}])')\n",
    "print(\"Los ID de Eurasia son:\", list(filter(Eurasia.match,identificacion)))"
   ]
  },
  {
   "cell_type": "markdown",
   "metadata": {},
   "source": []
  }
 ],
 "metadata": {
  "kernelspec": {
   "display_name": "Python 3",
   "language": "python",
   "name": "python3"
  },
  "language_info": {
   "codemirror_mode": {
    "name": "ipython",
    "version": 3
   },
   "file_extension": ".py",
   "mimetype": "text/x-python",
   "name": "python",
   "nbconvert_exporter": "python",
   "pygments_lexer": "ipython3",
   "version": "3.8.3"
  }
 },
 "nbformat": 4,
 "nbformat_minor": 4
}
